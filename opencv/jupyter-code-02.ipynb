{
 "cells": [
  {
   "cell_type": "code",
   "execution_count": null,
   "id": "22b0741f",
   "metadata": {},
   "outputs": [],
   "source": [
    "!pip install opencv-python\n",
    "!pip install matplotlib"
   ]
  },
  {
   "cell_type": "code",
   "execution_count": null,
   "id": "3d1af39e",
   "metadata": {},
   "outputs": [],
   "source": [
    "import cv2\n",
    "import matplotlib.pyplot as plt"
   ]
  },
  {
   "cell_type": "code",
   "execution_count": null,
   "id": "bdc64310",
   "metadata": {},
   "outputs": [],
   "source": [
    "image = cv2.imread('img_gray.jpg')"
   ]
  },
  {
   "cell_type": "code",
   "execution_count": null,
   "id": "696cbc04",
   "metadata": {},
   "outputs": [],
   "source": [
    "plt.imshow(image)"
   ]
  },
  {
   "cell_type": "code",
   "execution_count": null,
   "id": "b653c65e",
   "metadata": {},
   "outputs": [],
   "source": [
    "# x1\n",
    "for i in range(265, 361):\n",
    "    image[68:71, i, 0] = 0\n",
    "    image[68:71, i, 1] = 0\n",
    "    image[68:71, i, 2] = 255"
   ]
  },
  {
   "cell_type": "code",
   "execution_count": null,
   "id": "b3fd8bbe",
   "metadata": {},
   "outputs": [],
   "source": [
    "plt.imshow(image)"
   ]
  },
  {
   "cell_type": "code",
   "execution_count": null,
   "id": "22c51bdb",
   "metadata": {},
   "outputs": [],
   "source": [
    "# x2\n",
    "for i in range(265, 361):\n",
    "    image[158:161, i, 0] = 0\n",
    "    image[158:161, i, 1] = 255\n",
    "    image[158:161, i, 2] = 0"
   ]
  },
  {
   "cell_type": "code",
   "execution_count": null,
   "id": "1ce88635",
   "metadata": {},
   "outputs": [],
   "source": [
    "plt.imshow(image)"
   ]
  },
  {
   "cell_type": "code",
   "execution_count": null,
   "id": "9b93e9d5",
   "metadata": {},
   "outputs": [],
   "source": [
    "# y1\n",
    "for i in range(70, 161):\n",
    "    image[i, 264:267, 0] = 255\n",
    "    image[i, 264:267, 1] = 0\n",
    "    image[i, 264:267, 2] = 0"
   ]
  },
  {
   "cell_type": "code",
   "execution_count": null,
   "id": "8450d7e1",
   "metadata": {},
   "outputs": [],
   "source": [
    "plt.imshow(image)"
   ]
  },
  {
   "cell_type": "code",
   "execution_count": null,
   "id": "deea2ca9",
   "metadata": {},
   "outputs": [],
   "source": [
    "# y2\n",
    "for i in range(70, 161):\n",
    "    image[i, 358:361, 0] = 0\n",
    "    image[i, 358:361, 1] = 255\n",
    "    image[i, 358:361, 2] = 255"
   ]
  },
  {
   "cell_type": "code",
   "execution_count": null,
   "id": "a61ea31b",
   "metadata": {},
   "outputs": [],
   "source": [
    "plt.imshow(image)"
   ]
  }
 ],
 "metadata": {
  "kernelspec": {
   "display_name": "Python 3 (ipykernel)",
   "language": "python",
   "name": "python3"
  },
  "language_info": {
   "codemirror_mode": {
    "name": "ipython",
    "version": 3
   },
   "file_extension": ".py",
   "mimetype": "text/x-python",
   "name": "python",
   "nbconvert_exporter": "python",
   "pygments_lexer": "ipython3",
   "version": "3.9.12"
  }
 },
 "nbformat": 4,
 "nbformat_minor": 5
}
