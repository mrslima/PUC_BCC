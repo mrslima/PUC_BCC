{
 "cells": [
  {
   "cell_type": "code",
   "execution_count": null,
   "id": "22e76c18",
   "metadata": {},
   "outputs": [],
   "source": [
    "!pip install opencv-python\n",
    "!pip install matplotlib"
   ]
  },
  {
   "cell_type": "code",
   "execution_count": null,
   "id": "ba55f19b",
   "metadata": {},
   "outputs": [],
   "source": [
    "import cv2\n",
    "import matplotlib.pyplot as plt"
   ]
  },
  {
   "cell_type": "code",
   "execution_count": null,
   "id": "3dc053f5",
   "metadata": {},
   "outputs": [],
   "source": [
    "image = cv2.imread('img_gray.jpg')"
   ]
  },
  {
   "cell_type": "code",
   "execution_count": null,
   "id": "1dc1d588",
   "metadata": {},
   "outputs": [],
   "source": [
    "plt.imshow(image)\n",
    "\n",
    "# ALTERNATIVE\n",
    "\n",
    "# cv2.imshow(\"Original Image\", image)\n",
    "# cv2.waitKey(0)\n",
    "# cv2.destroyAllWindows()"
   ]
  },
  {
   "cell_type": "code",
   "execution_count": null,
   "id": "9920e2ef",
   "metadata": {},
   "outputs": [],
   "source": [
    "image = cv2.rectangle(image, (265, 70), (360, 160), (0, 0, 255), 2)"
   ]
  },
  {
   "cell_type": "code",
   "execution_count": null,
   "id": "04683f88",
   "metadata": {},
   "outputs": [],
   "source": [
    "plt.imshow(image)\n",
    "\n",
    "# ALTERNATIVE\n",
    "\n",
    "# image = cv2.rectangle(image, (265, 70), (360, 160), (0, 0, 255), 2)\n",
    "# cv2.imshow('Modified Image | PRESSIONE ALGUMA TECLA PARA FECHAR TUDO', image)\n",
    "# cv2.waitKey(0)\n",
    "# cv2.destroyAllWindows()"
   ]
  },
  {
   "cell_type": "code",
   "execution_count": null,
   "id": "99231a94",
   "metadata": {},
   "outputs": [],
   "source": []
  }
 ],
 "metadata": {
  "kernelspec": {
   "display_name": "Python 3 (ipykernel)",
   "language": "python",
   "name": "python3"
  }
 },
 "nbformat": 4,
 "nbformat_minor": 5
}
